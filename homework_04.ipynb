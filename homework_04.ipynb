{
 "cells": [
  {
   "cell_type": "markdown",
   "metadata": {
    "id": "QY4qPJPpgyIS"
   },
   "source": [
    "# Домашнее задание: декораторы"
   ]
  },
  {
   "cell_type": "markdown",
   "metadata": {
    "id": "Chacc6YchldZ"
   },
   "source": [
    "## Импорт библиотек, установка констант"
   ]
  },
  {
   "cell_type": "code",
   "execution_count": null,
   "metadata": {
    "id": "w8iKrWvwhrFd"
   },
   "outputs": [],
   "source": [
    "import requests\n",
    "import time\n",
    "import re\n",
    "\n",
    "from random import randint\n",
    "from functools import wraps"
   ]
  },
  {
   "cell_type": "code",
   "execution_count": null,
   "metadata": {
    "id": "-LRkS0fSi8Np"
   },
   "outputs": [],
   "source": [
    "BOOK_PATH = 'https://www.gutenberg.org/files/2638/2638-0.txt'"
   ]
  },
  {
   "cell_type": "markdown",
   "metadata": {
    "id": "kARfL8ifg4MH"
   },
   "source": [
    "## Задание 1"
   ]
  },
  {
   "cell_type": "code",
   "execution_count": null,
   "metadata": {
    "id": "hNHNWPhngrUl"
   },
   "outputs": [],
   "source": [
    "def benchmark(func):\n",
    "    \"\"\"\n",
    "    Декоратор, выводящий время, которое заняло выполнение декорируемой функции\n",
    "    \"\"\"\n",
    "    @wraps(func)\n",
    "    def wrapper(*args, **kwargs):\n",
    "        \n",
    "        start = time.perf_counter() # starting the timer\n",
    "        \n",
    "        result = func(*args, **kwargs) # executing the function\n",
    "        \n",
    "        end = time.perf_counter() # stopping the timer\n",
    "        \n",
    "\n",
    "        print(f'Время выполнения функции {func.__name__}: {end - start:.6f}\\n')\n",
    "        \n",
    "        return result\n",
    "        \n",
    "    return wrapper"
   ]
  },
  {
   "cell_type": "markdown",
   "metadata": {
    "id": "tGlbUKjihL5n"
   },
   "source": [
    "## Задание 2"
   ]
  },
  {
   "cell_type": "code",
   "execution_count": null,
   "metadata": {
    "id": "wugOZDLqhNe-"
   },
   "outputs": [],
   "source": [
    "def logging(func):\n",
    "    \"\"\"\n",
    "    Декоратор, который выводит параметры с которыми была вызвана функция\n",
    "    \"\"\"\n",
    "    @wraps(func)\n",
    "    def wrapper(*args, **kwargs):\n",
    "        \n",
    "        result = func(*args, **kwargs)\n",
    "        \n",
    "        print(f'Функция вызвана с параметрами:\\n{args}, {kwargs}\\n')\n",
    "        return result\n",
    "    \n",
    "    return wrapper"
   ]
  },
  {
   "cell_type": "markdown",
   "metadata": {
    "id": "Sq1tv5fshTfv"
   },
   "source": [
    "## Задание 3"
   ]
  },
  {
   "cell_type": "code",
   "execution_count": null,
   "metadata": {
    "id": "9nyvuxXkhVeb"
   },
   "outputs": [],
   "source": [
    "def counter(func):\n",
    "    \"\"\"\n",
    "    Декоратор, считающий и выводящий количество вызовов декорируемой функции\n",
    "    \"\"\"\n",
    "    counter = 0 # setting the counter\n",
    "    @wraps(func)\n",
    "    def wrapper(*args, **kwargs):\n",
    "        nonlocal counter\n",
    "        \n",
    "        counter += 1\n",
    "        print(f'Функция была вызвана: {counter} раз\\n')\n",
    "        return func(*args, **kwargs)\n",
    "        \n",
    "    return wrapper"
   ]
  },
  {
   "cell_type": "markdown",
   "metadata": {
    "id": "uHn8Adfshz5q"
   },
   "source": [
    "## Задание 4"
   ]
  },
  {
   "cell_type": "code",
   "execution_count": null,
   "metadata": {
    "id": "R7uu6WtGifNX"
   },
   "outputs": [],
   "source": [
    "def memo(func):\n",
    "    \"\"\"\n",
    "    Декоратор, запоминающий результаты исполнения функции func, чьи аргументы args должны быть хешируемыми\n",
    "    \"\"\"\n",
    "    cache = {}\n",
    "    @wraps(func)\n",
    "    def fmemo(*args):\n",
    "        key = tuple(args)\n",
    "        \n",
    "        if key in cache.keys():\n",
    "            return cache[key]\n",
    "        \n",
    "        result = func(*args)\n",
    "        cache[key] = result\n",
    "        return result\n",
    "    \n",
    "    fmemo.cache = cache\n",
    "    return fmemo"
   ]
  },
  {
   "cell_type": "markdown",
   "metadata": {
    "id": "Zn5UQCa_izxo"
   },
   "source": [
    "## Тестирование"
   ]
  },
  {
   "cell_type": "code",
   "execution_count": null,
   "metadata": {
    "id": "CHCJ64I8i2QB",
    "scrolled": true
   },
   "outputs": [],
   "source": [
    "@counter\n",
    "@logging\n",
    "@benchmark\n",
    "def word_count(word, url=BOOK_PATH):\n",
    "    \"\"\"\n",
    "    Функция для посчета указанного слова на html-странице\n",
    "    \"\"\"\n",
    "\n",
    "    # отправляем запрос в библиотеку Gutenberg и забираем текст\n",
    "    raw = requests.get(url).text\n",
    "\n",
    "    # заменяем в тексте все небуквенные символы на пробелы\n",
    "    processed_book = re.sub('[\\W]+' , ' ', raw).lower()\n",
    "\n",
    "    # считаем\n",
    "    cnt = len(re.findall(word.lower(), processed_book))\n",
    "\n",
    "    return f\"Cлово {word} встречается {cnt} раз\"\n",
    "\n",
    "print(word_count('whole'))"
   ]
  },
  {
   "cell_type": "code",
   "execution_count": null,
   "metadata": {
    "id": "ZE4Rfn-hh3k3"
   },
   "outputs": [],
   "source": [
    "@benchmark\n",
    "def fib(n):\n",
    "    if n < 2:\n",
    "        return n\n",
    "    return fib(n-2) + fib(n-1)"
   ]
  },
  {
   "cell_type": "code",
   "execution_count": null,
   "metadata": {
    "id": "Io94NyjiiXG4"
   },
   "outputs": [],
   "source": [
    "# измеряем время выполнения\n",
    "fib(10)"
   ]
  },
  {
   "cell_type": "code",
   "execution_count": null,
   "metadata": {
    "id": "W9B3e-t9iTUj"
   },
   "outputs": [],
   "source": [
    "@benchmark\n",
    "@memo\n",
    "def fib(n):\n",
    "    if n < 2:\n",
    "        return n\n",
    "    return fib(n-2) + fib(n-1)"
   ]
  },
  {
   "cell_type": "code",
   "execution_count": null,
   "metadata": {
    "id": "Sk6_4KQaidkh",
    "scrolled": false
   },
   "outputs": [],
   "source": [
    "# измеряем время выполнения\n",
    "fib(10)"
   ]
  },
  {
   "cell_type": "code",
   "execution_count": null,
   "metadata": {},
   "outputs": [],
   "source": []
  }
 ],
 "metadata": {
  "colab": {
   "provenance": []
  },
  "kernelspec": {
   "display_name": "Python 3 (ipykernel)",
   "language": "python",
   "name": "python3"
  },
  "language_info": {
   "codemirror_mode": {
    "name": "ipython",
    "version": 3
   },
   "file_extension": ".py",
   "mimetype": "text/x-python",
   "name": "python",
   "nbconvert_exporter": "python",
   "pygments_lexer": "ipython3",
   "version": "3.9.7"
  }
 },
 "nbformat": 4,
 "nbformat_minor": 1
}
